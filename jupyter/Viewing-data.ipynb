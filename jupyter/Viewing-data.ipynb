{
 "cells": [
  {
   "cell_type": "markdown",
   "metadata": {},
   "source": [
    "# Downloading a dataset\n",
    "It needs to be run only once."
   ]
  },
  {
   "cell_type": "code",
   "execution_count": null,
   "metadata": {},
   "outputs": [],
   "source": [
    "import requests\n",
    "import os\n",
    "import zipfile\n",
    "from tqdm import tqdm\n",
    "\n",
    "url = 'http://cs.stanford.edu/people/alecmgo/trainingandtestdata.zip'\n",
    "data = os.path.join(\"data\", \"sentiment140\")\n",
    "filename = os.path.join(\"data\", \"sentiment140.zip\")\n",
    "if not os.path.isdir(data):\n",
    "    print(\"Downloading...\")\n",
    "    os.makedirs(\"data\", exist_ok=True)\n",
    "    r = requests.get(url, allow_redirects=True)\n",
    "    open(filename, 'wb').write(r.content)\n",
    "    \n",
    "    zip_ref = zipfile.ZipFile(filename, 'r')\n",
    "    zip_ref.extractall(data)\n",
    "    zip_ref.close()\n",
    "    print(\"Done!\")"
   ]
  },
  {
   "cell_type": "markdown",
   "metadata": {},
   "source": [
    "# Loading the dataset"
   ]
  },
  {
   "cell_type": "code",
   "execution_count": null,
   "metadata": {
    "scrolled": true
   },
   "outputs": [],
   "source": [
    "import pandas as pd\n",
    "import os\n",
    "import matplotlib.pyplot as plt\n",
    "import numpy as np\n",
    "\n",
    "\n",
    "cols = ['sentiment','id','date','query_string','user','text']\n",
    "data = os.path.join(\"data\", \"sentiment140\")\n",
    "datasets = os.listdir(data)\n",
    "train = pd.read_csv(os.path.join(data, datasets[1]), header=None, names=cols, encoding=\"ISO-8859-1\")\n",
    "test = pd.read_csv(os.path.join(data, datasets[0]), header=None, names=cols, encoding=\"ISO-8859-1\")"
   ]
  },
  {
   "cell_type": "code",
   "execution_count": null,
   "metadata": {},
   "outputs": [],
   "source": [
    "test.head()"
   ]
  },
  {
   "cell_type": "markdown",
   "metadata": {},
   "source": [
    "# Visualisation"
   ]
  },
  {
   "cell_type": "code",
   "execution_count": null,
   "metadata": {},
   "outputs": [],
   "source": [
    "from sklearn.feature_extraction.text import CountVectorizer\n",
    "cvec = CountVectorizer()\n",
    "cvec.fit(train.text)\n",
    "neg_doc_matrix = cvec.transform(train[train['sentiment'] == 0].text)\n",
    "pos_doc_matrix = cvec.transform(train[train['sentiment'] == 4].text)\n",
    "neg_tf = np.sum(neg_doc_matrix,axis=0)\n",
    "pos_tf = np.sum(pos_doc_matrix,axis=0)\n",
    "neg = np.squeeze(np.asarray(neg_tf))\n",
    "pos = np.squeeze(np.asarray(pos_tf))\n",
    "term_freq_df = pd.DataFrame([neg,pos],\n",
    "                            columns=cvec.get_feature_names()\n",
    "                           ).transpose()\n",
    "term_freq_df.columns = ['negative', 'positive']\n",
    "term_freq_df['total'] = term_freq_df['negative'] + \\\n",
    "                        term_freq_df['positive']\n",
    "term_freq_df.sort_values(by='total', \n",
    "                         ascending=False\n",
    "                        ).iloc[:10]"
   ]
  },
  {
   "cell_type": "code",
   "execution_count": null,
   "metadata": {},
   "outputs": [],
   "source": [
    "y_pos = np.arange(50)\n",
    "plt.figure(figsize=(12,10))\n",
    "plt.bar(y_pos, \n",
    "        term_freq_df.sort_values(by='negative',ascending=False)       \n",
    "                                  ['negative'][:50], \n",
    "                                  align='center', \n",
    "                                  alpha=0.5)\n",
    "\n",
    "plt.xticks(y_pos, \n",
    "           term_freq_df.sort_values(by='negative',ascending=False) \n",
    "                                     ['negative']   \n",
    "                                     [:50].index,\n",
    "                                     rotation='vertical')\n",
    "plt.ylabel('Frequency')\n",
    "plt.xlabel('Top 50 negative tokens')\n",
    "plt.title('Top 50 tokens in negative tweets')"
   ]
  },
  {
   "cell_type": "markdown",
   "metadata": {},
   "source": [
    "We want to remove very frequent word such as \"to\". We use instead TF-IDF"
   ]
  },
  {
   "cell_type": "code",
   "execution_count": null,
   "metadata": {},
   "outputs": [],
   "source": [
    "from sklearn.feature_extraction.text import TfidfVectorizer\n",
    "cvec = TfidfVectorizer()\n",
    "cvec.fit(train.text)\n",
    "neg_doc_matrix = cvec.transform(train[train['sentiment'] == 0].text)\n",
    "pos_doc_matrix = cvec.transform(train[train['sentiment'] == 4].text)\n",
    "neg_tf = np.sum(neg_doc_matrix,axis=0)\n",
    "pos_tf = np.sum(pos_doc_matrix,axis=0)\n",
    "neg = np.squeeze(np.asarray(neg_tf))\n",
    "pos = np.squeeze(np.asarray(pos_tf))\n",
    "term_freq_df = pd.DataFrame([neg,pos],\n",
    "                            columns=cvec.get_feature_names()\n",
    "                           ).transpose()\n",
    "term_freq_df.columns = ['negative', 'positive']\n",
    "term_freq_df['total'] = term_freq_df['negative'] + \\\n",
    "                        term_freq_df['positive']\n",
    "term_freq_df.sort_values(by='total', \n",
    "                         ascending=False\n",
    "                        ).iloc[:10]"
   ]
  },
  {
   "cell_type": "code",
   "execution_count": null,
   "metadata": {},
   "outputs": [],
   "source": [
    "y_pos = np.arange(50)\n",
    "plt.figure(figsize=(12,10))\n",
    "plt.bar(y_pos, \n",
    "        term_freq_df.sort_values(by='negative',ascending=False)       \n",
    "                                  ['negative'][:50], \n",
    "                                  align='center', \n",
    "                                  alpha=0.5)\n",
    "\n",
    "plt.xticks(y_pos, \n",
    "           term_freq_df.sort_values(by='negative',ascending=False) \n",
    "                                     ['negative']   \n",
    "                                     [:50].index,\n",
    "                                     rotation='vertical')\n",
    "plt.ylabel('Frequency')\n",
    "plt.xlabel('Top 50 negative tokens')\n",
    "plt.title('Top 50 tokens in negative tweets')"
   ]
  },
  {
   "cell_type": "markdown",
   "metadata": {},
   "source": [
    "# Viewing cumulative distribution function\n",
    "https://en.wikipedia.org/wiki/Cumulative_distribution_function"
   ]
  },
  {
   "cell_type": "code",
   "execution_count": null,
   "metadata": {},
   "outputs": [],
   "source": [
    "term_freq_df['pos_rate'] = term_freq_df['positive'] / term_freq_df['total']\n",
    "term_freq_df.sort_values(by='pos_rate', \n",
    "                          ascending=False).iloc[:10]\n",
    "term_freq_df['pos_freq_pct'] = term_freq_df['positive'] / term_freq_df['positive'].sum()\n",
    "term_freq_df.sort_values(by='pos_freq_pct', \n",
    "                          ascending=False).iloc[:10]\n",
    "\n",
    "from scipy.stats import hmean\n",
    "term_freq_df['pos_hmean'] = term_freq_df.apply(\n",
    "    lambda x: (hmean([x['pos_rate'], x['pos_freq_pct']])                                                                                             if x['pos_rate'] > 0 and \n",
    "                                  x['pos_freq_pct'] > 0 else 0), \n",
    "                       axis=1)\n",
    "                                                       \n",
    "term_freq_df.sort_values(by='pos_hmean', ascending=False).iloc[:10]\n",
    "\n",
    "\n",
    "from scipy.stats import norm\n",
    "def normcdf(x):\n",
    "    return norm.cdf(x, x.mean(), x.std())\n",
    "term_freq_df['pos_rate_normcdf'] = normcdf(term_freq_df['pos_rate'])\n",
    "term_freq_df['pos_freq_pct_normcdf'] = normcdf(term_freq_df['pos_freq_pct'])\n",
    "term_freq_df['pos_normcdf_hmean'] = hmean([term_freq_df['pos_rate_normcdf'], term_freq_df['pos_freq_pct_normcdf']])\n",
    "term_freq_df.sort_values(by='pos_normcdf_hmean',ascending=False).iloc[:10]\n",
    "\n",
    "\n",
    "term_freq_df['neg_rate'] = term_freq_df['negative'] * 1./term_freq_df['total']\n",
    "term_freq_df['neg_freq_pct'] = term_freq_df['negative'] * 1./term_freq_df['negative'].sum()\n",
    "term_freq_df['neg_hmean'] = term_freq_df.apply(lambda x: (hmean([x['neg_rate'], x['neg_freq_pct']])                                                                if x['neg_rate'] > 0 and x['neg_freq_pct'] > 0                                                                else 0), axis=1)\n",
    "                                                       \n",
    "term_freq_df['neg_rate_normcdf'] = normcdf(term_freq_df['neg_rate'])\n",
    "term_freq_df['neg_freq_pct_normcdf'] = normcdf(term_freq_df['neg_freq_pct'])\n",
    "term_freq_df['neg_normcdf_hmean'] = hmean([term_freq_df['neg_rate_normcdf'], term_freq_df['neg_freq_pct_normcdf']])\n",
    "term_freq_df.sort_values(by='neg_normcdf_hmean', ascending=False).iloc[:10]\n",
    "\n",
    "plt.figure(figsize=(8,6))\n",
    "ax = sns.regplot(x=\"neg_normcdf_hmean\", \n",
    "                 y=\"pos_normcdf_hmean\",\n",
    "                 fit_reg=False, \n",
    "                 scatter_kws={'alpha':0.5},\n",
    "                 data=term_freq_df)\n",
    "plt.ylabel('Positive Rate and Frequency CDF Harmonic Mean')\n",
    "plt.xlabel('Negative Rate and Frequency CDF Harmonic Mean')\n",
    "plt.title('neg_normcdf_hmean vs pos_normcdf_hmean')\n"
   ]
  },
  {
   "cell_type": "code",
   "execution_count": null,
   "metadata": {},
   "outputs": [],
   "source": [
    "from bokeh.plotting import figure\n",
    "from bokeh.io import output_notebook, show\n",
    "from bokeh.models import LinearColorMapper\n",
    "from bokeh.models import HoverTool\n",
    "output_notebook()\n",
    "color_mapper = LinearColorMapper(palette='Inferno256', low=min(term_freq_df.pos_normcdf_hmean), high=max(term_freq_df.pos_normcdf_hmean))\n",
    "p = figure(x_axis_label='neg_normcdf_hmean', y_axis_label='pos_normcdf_hmean')\n",
    "p.circle('neg_normcdf_hmean','pos_normcdf_hmean',size=5,alpha=0.3,source=term_freq_df,color={'field': 'pos_normcdf_hmean', 'transform': color_mapper})\n",
    "hover = HoverTool(tooltips=[('token','@index')])\n",
    "p.add_tools(hover)\n",
    "show(p)"
   ]
  }
 ],
 "metadata": {
  "kernelspec": {
   "display_name": "Python 3",
   "language": "python",
   "name": "python3"
  },
  "language_info": {
   "codemirror_mode": {
    "name": "ipython",
    "version": 3
   },
   "file_extension": ".py",
   "mimetype": "text/x-python",
   "name": "python",
   "nbconvert_exporter": "python",
   "pygments_lexer": "ipython3",
   "version": "3.6.8"
  }
 },
 "nbformat": 4,
 "nbformat_minor": 2
}
