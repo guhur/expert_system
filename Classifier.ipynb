{
 "cells": [
  {
   "cell_type": "markdown",
   "metadata": {},
   "source": [
    "# Loading the dataset"
   ]
  },
  {
   "cell_type": "code",
   "execution_count": null,
   "metadata": {},
   "outputs": [],
   "source": [
    "%load_ext autoreload\n",
    "%autoreload 2 \n",
    "\n",
    "import pandas as pd\n",
    "import os\n",
    "import matplotlib.pyplot as plt\n",
    "import numpy as np\n",
    "\n",
    "cols = ['sentiment','id','date','query_string','user','text']\n",
    "data = os.path.join(\"data\", \"sentiment140\")\n",
    "datasets = os.listdir(data)\n",
    "dataset = pd.read_csv(os.path.join(data, datasets[1]), header=None, names=cols, encoding=\"ISO-8859-1\")"
   ]
  },
  {
   "cell_type": "code",
   "execution_count": null,
   "metadata": {},
   "outputs": [],
   "source": [
    "dataset.head()"
   ]
  },
  {
   "cell_type": "markdown",
   "metadata": {},
   "source": [
    "# Preprocess the data\n",
    "- X = tokens from tweets \n",
    "- Y = one hot encoding of sentiments\n"
   ]
  },
  {
   "cell_type": "code",
   "execution_count": 9,
   "metadata": {
    "scrolled": true
   },
   "outputs": [],
   "source": [
    "from nltk.tokenize import TweetTokenizer\n",
    "from sklearn.preprocessing import OneHotEncoder\n",
    "from tqdm import tqdm \n",
    "\n",
    "def preprocess(df, tknzr=TweetTokenizer(strip_handles=True, reduce_len=True), split=0.1):\n",
    "    df = df.sample(frac=1).reset_index(drop=True)\n",
    "    x = df['text'].values#np.array([tknzr.tokenize(t) for t in tqdm(df['text'])])\n",
    "    y = df['sentiment'].values.reshape((-1,1))\n",
    "#     y = OneHotEncoder(categories='auto').fit_transform(y).toarray()\n",
    "    if split is None:\n",
    "        return x, y\n",
    "    if not isinstance(split, (list,)):\n",
    "        split = list(split)\n",
    "    split = [0] + [int(s*len(x)) for s in split]\n",
    "    split = np.cumsum(split)\n",
    "    ret = []\n",
    "    for i in range(len(split) - 1):\n",
    "        ret += [x[split[i]:split[i+1]], y[split[i]:split[i+1]]]\n",
    "    return ret\n",
    "\n",
    "x_train, y_train, x_valid, y_valid, x_test, y_test = preprocess(dataset, split=[0.8,0.1,0.1])"
   ]
  },
  {
   "cell_type": "markdown",
   "metadata": {},
   "source": [
    "# Training a logistic regression with embedding\n",
    "See details on [\"Learning to Generate Reviews and Discovering Sentiment\"](https://arxiv.org/abs/1704.01444)"
   ]
  },
  {
   "cell_type": "code",
   "execution_count": null,
   "metadata": {},
   "outputs": [],
   "source": [
    "from app.classifier import Embedding\n",
    "\n",
    "embd_model = Embedding()"
   ]
  },
  {
   "cell_type": "code",
   "execution_count": null,
   "metadata": {},
   "outputs": [],
   "source": [
    "# Embedding with neural networks\n",
    "X_train = embd_model.transform(x_train)\n",
    "X_dev = embd_model.transform(x_dev)\n",
    "X_test = embd_model.transform(x_test)\n",
    "\n",
    "# Find best hyper-parameters for the logistic regression \n",
    "C = 2**np.arange(-8, 1).astype(np.float)\n",
    "scores = []\n",
    "for i, c in enumerate(C):\n",
    "    model = LogisticRegression(C=c, penalty='l1', \\\n",
    "                solver='lbfgs', multi_class='auto')\n",
    "    model.fit(X_train, y_train)\n",
    "    score = model.score(X_dev, y_dev)\n",
    "    scores.append(score)\n",
    "    \n",
    "# Train (again) on the best classifier\n",
    "c = C[np.argmax(scores)]\n",
    "model = LogisticRegression(C=c, penalty='l1', \\\n",
    "                solver='lbfgs', multi_class='auto')\n",
    "model.fit(X_train, y_train)\n",
    "nnotzero = np.sum(model.coef_ != 0)\n",
    "\n",
    "score = accuracy_score(y_dev, model.predict(X_dev))*100.\n",
    "\n",
    "# Classification results\n",
    "print(f'Accuracy: {score:05.2f}')\n",
    "print(f'Regularization L1: {c:05.2f}')\n",
    "print(f'Used features: {nnotzero:05d}')\n",
    "\n",
    "# Write results on test set\n",
    "y_test = model.predict(X_test)\n",
    "lines = '\\n'.join([str(np.argmax(pred)) for pred in y_test])\n",
    "with open('logreg_embdnn_y_test_sst.txt','w') as f:\n",
    "    f.writelines(lines)"
   ]
  },
  {
   "cell_type": "markdown",
   "metadata": {},
   "source": [
    "# Train a Naive Bayes Classifier"
   ]
  },
  {
   "cell_type": "code",
   "execution_count": 14,
   "metadata": {
    "scrolled": false
   },
   "outputs": [
    {
     "name": "stdout",
     "output_type": "stream",
     "text": [
      "              precision    recall  f1-score   support\n",
      "\n",
      "           0     0.7313    0.8264    0.7760     79538\n",
      "           4     0.8031    0.6999    0.7480     80462\n",
      "\n",
      "   micro avg     0.7628    0.7628    0.7628    160000\n",
      "   macro avg     0.7672    0.7631    0.7620    160000\n",
      "weighted avg     0.7674    0.7628    0.7619    160000\n",
      "\n"
     ]
    }
   ],
   "source": [
    "import pandas as pd\n",
    "import numpy as np\n",
    "from sklearn.pipeline import Pipeline\n",
    "from sklearn.naive_bayes import MultinomialNB\n",
    "from sklearn.feature_extraction.text import CountVectorizer, TfidfTransformer\n",
    "from sklearn.model_selection import train_test_split, GridSearchCV\n",
    "from sklearn.metrics import classification_report\n",
    "import re\n",
    "\n",
    "def preprocess_text(text):\n",
    "    text = re.sub('((www\\.[^\\s]+)|(https?://[^\\s]+))','URL', text)\n",
    "    text = re.sub('@[^\\s]+','USER', text)\n",
    "    text = text.lower().replace(\"ё\", \"е\")\n",
    "    text = re.sub('[^a-zA-Zа-яА-Я1-9]+', ' ', text)\n",
    "    text = re.sub(' +',' ', text)\n",
    "    return text.strip()\n",
    "# data = [preprocess_text(t) for t in raw_data]\n",
    "\n",
    "\n",
    "\n",
    "\n",
    "text_clf = Pipeline([('vect', CountVectorizer()),\n",
    "                     ('tfidf', TfidfTransformer()),\n",
    "                     ('clf', MultinomialNB())])\n",
    "tuned_parameters = {\n",
    "    'vect__ngram_range': [(1, 1), (1, 2), (2, 2)],\n",
    "    'tfidf__use_idf': (True, False),\n",
    "    'tfidf__norm': ('l1', 'l2'),\n",
    "    'clf__alpha': [1, 1e-1, 1e-2]\n",
    "}\n",
    "\n",
    "\n",
    "score = 'f1_macro'\n",
    "# clf = GridSearchCV(text_clf, tuned_parameters, cv=10, scoring=score)\n",
    "text_clf.fit(x_valid, y_valid)\n",
    "\n",
    "\n",
    "print(classification_report(y_test, text_clf.predict(x_test), digits=4))\n"
   ]
  },
  {
   "cell_type": "code",
   "execution_count": 29,
   "metadata": {},
   "outputs": [
    {
     "data": {
      "text/plain": [
       "array([4, 0, 4, 0])"
      ]
     },
     "execution_count": 29,
     "metadata": {},
     "output_type": "execute_result"
    }
   ],
   "source": [
    "text_clf.predict([\"I am happy\", \"I am sad\", \"I love trump\", \"I do not love my mum\"])"
   ]
  },
  {
   "cell_type": "code",
   "execution_count": 32,
   "metadata": {},
   "outputs": [
    {
     "data": {
      "text/plain": [
       "['model/multinomial-nb.joblib']"
      ]
     },
     "execution_count": 32,
     "metadata": {},
     "output_type": "execute_result"
    }
   ],
   "source": [
    "from joblib import dump, load\n",
    "dump(text_clf, 'model/multinomial-nb.joblib') "
   ]
  },
  {
   "cell_type": "markdown",
   "metadata": {},
   "source": [
    "# Injecting the predictor on the code"
   ]
  },
  {
   "cell_type": "code",
   "execution_count": 6,
   "metadata": {},
   "outputs": [
    {
     "data": {
      "text/plain": [
       "array([4])"
      ]
     },
     "execution_count": 6,
     "metadata": {},
     "output_type": "execute_result"
    }
   ],
   "source": [
    "from app.load import predictor, multinomialnb\n",
    "stc = \"I love this company #bestcompanyever\"\n",
    "multinomialnb.predict([stc])\n",
    "\n",
    "# predictor([])"
   ]
  },
  {
   "cell_type": "code",
   "execution_count": null,
   "metadata": {},
   "outputs": [],
   "source": []
  }
 ],
 "metadata": {
  "kernelspec": {
   "display_name": "Python 3",
   "language": "python",
   "name": "python3"
  },
  "language_info": {
   "codemirror_mode": {
    "name": "ipython",
    "version": 3
   },
   "file_extension": ".py",
   "mimetype": "text/x-python",
   "name": "python",
   "nbconvert_exporter": "python",
   "pygments_lexer": "ipython3",
   "version": "3.6.8"
  }
 },
 "nbformat": 4,
 "nbformat_minor": 2
}
